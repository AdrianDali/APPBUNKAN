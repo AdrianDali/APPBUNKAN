{
  "nbformat": 4,
  "nbformat_minor": 0,
  "metadata": {
    "colab": {
      "name": "EDD_BigO_1511.ipynb",
      "provenance": [],
      "authorship_tag": "ABX9TyMbOTVZ5zSxApbF0uB/uNxa",
      "include_colab_link": true
    },
    "kernelspec": {
      "name": "python3",
      "display_name": "Python 3"
    },
    "language_info": {
      "name": "python"
    }
  },
  "cells": [
    {
      "cell_type": "markdown",
      "metadata": {
        "id": "view-in-github",
        "colab_type": "text"
      },
      "source": [
        "<a href=\"https://colab.research.google.com/github/AdrianDali/APPBUNKAN/blob/main/EDD_BigO_1511.ipynb\" target=\"_parent\"><img src=\"https://colab.research.google.com/assets/colab-badge.svg\" alt=\"Open In Colab\"/></a>"
      ]
    },
    {
      "cell_type": "markdown",
      "metadata": {
        "id": "k9ZERaf9LA2a"
      },
      "source": [
        "\n",
        "Arboles binarios\n",
        "> Bloc con sangría\n",
        "\n"
      ]
    },
    {
      "cell_type": "code",
      "metadata": {
        "id": "yuTWDJ8cEM_f"
      },
      "source": [
        "class NodoArbol:\n",
        "    def __init__(self, value, left = None , right = None):\n",
        "        self.data = value \n",
        "        self.left = left \n",
        "        self.right = right\n",
        "\n",
        "\n",
        "class ArbolBB:\n",
        "    def __init__(self):\n",
        "        pass\n",
        "        #pausa y comprender ell uso de nodo arbol\n",
        "        "
      ],
      "execution_count": 1,
      "outputs": []
    },
    {
      "cell_type": "code",
      "metadata": {
        "colab": {
          "base_uri": "https://localhost:8080/"
        },
        "id": "xRHZ2Pn6MkgK",
        "outputId": "10f59929-00d0-4cd2-985d-1fdcb2c298ef"
      },
      "source": [
        "raiz = NodoArbol(60,None,None)\n",
        "raiz.left = NodoArbol(40, None, None)\n",
        "print(raiz.left.data)\n",
        "\n",
        "\n",
        "#lo mismo pero como programador ninja\n",
        "raiz = NodoArbol(60,NodoArbol(40),None)\n",
        "print(raiz.left.data)\n",
        "\n",
        "\n",
        "raiz = NodoArbol( 60 , NodoArbol(40 , NodoArbol(30))    , NodoArbol(70) )\n",
        "print(raiz.left.left.data)"
      ],
      "execution_count": 6,
      "outputs": [
        {
          "output_type": "stream",
          "name": "stdout",
          "text": [
            "40\n",
            "40\n",
            "30\n"
          ]
        }
      ]
    }
  ]
}